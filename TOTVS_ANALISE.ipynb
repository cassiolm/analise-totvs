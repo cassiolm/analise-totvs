{
 "cells": [
  {
   "cell_type": "code",
   "execution_count": 1,
   "metadata": {},
   "outputs": [],
   "source": [
    "import sklearn\n",
    "import pandas as pd\n",
    "import numpy as np\n",
    "import json\n",
    "from matplotlib.legend_handler import HandlerLine2D\n",
    "import matplotlib.pyplot as plt\n",
    "import datetime\n",
    "import seaborn as sns"
   ]
  },
  {
   "cell_type": "code",
   "execution_count": 2,
   "metadata": {},
   "outputs": [],
   "source": [
    "from sklearn.preprocessing import StandardScaler\n",
    "from sklearn.decomposition import PCA\n",
    "from sklearn.pipeline import Pipeline\n",
    "from sklearn.impute import SimpleImputer\n",
    "from sklearn.compose import ColumnTransformer\n",
    "from sklearn.ensemble import GradientBoostingClassifier\n",
    "from sklearn.metrics import confusion_matrix, classification_report, auc, roc_curve\n",
    "from imblearn.pipeline import Pipeline as pipe"
   ]
  },
  {
   "cell_type": "code",
   "execution_count": 3,
   "metadata": {},
   "outputs": [],
   "source": [
    "# Importando o arquivo JSON, no meu caso está no mesmo path que o notebook\n",
    "json_dados = json.load(open('challenge.json')) "
   ]
  },
  {
   "cell_type": "code",
   "execution_count": 4,
   "metadata": {},
   "outputs": [
    {
     "data": {
      "text/html": [
       "<div>\n",
       "<style scoped>\n",
       "    .dataframe tbody tr th:only-of-type {\n",
       "        vertical-align: middle;\n",
       "    }\n",
       "\n",
       "    .dataframe tbody tr th {\n",
       "        vertical-align: top;\n",
       "    }\n",
       "\n",
       "    .dataframe thead th {\n",
       "        text-align: right;\n",
       "    }\n",
       "</style>\n",
       "<table border=\"1\" class=\"dataframe\">\n",
       "  <thead>\n",
       "    <tr style=\"text-align: right;\">\n",
       "      <th></th>\n",
       "      <th>customer_code</th>\n",
       "      <th>branch_id</th>\n",
       "      <th>sales_channel</th>\n",
       "      <th>seller_code</th>\n",
       "      <th>register_date</th>\n",
       "      <th>total_price</th>\n",
       "      <th>order_id</th>\n",
       "      <th>quantity</th>\n",
       "      <th>item_code</th>\n",
       "      <th>item_total_price</th>\n",
       "      <th>unit_price</th>\n",
       "      <th>group_code</th>\n",
       "      <th>segment_code</th>\n",
       "      <th>is_churn</th>\n",
       "    </tr>\n",
       "  </thead>\n",
       "  <tbody>\n",
       "    <tr>\n",
       "      <th>0</th>\n",
       "      <td>143</td>\n",
       "      <td>0</td>\n",
       "      <td>0</td>\n",
       "      <td>190</td>\n",
       "      <td>2017-11-10T00:00:00Z</td>\n",
       "      <td>1613.53</td>\n",
       "      <td>21804</td>\n",
       "      <td>10</td>\n",
       "      <td>854</td>\n",
       "      <td>292.91</td>\n",
       "      <td>25.04</td>\n",
       "      <td>0</td>\n",
       "      <td>0</td>\n",
       "      <td>0</td>\n",
       "    </tr>\n",
       "    <tr>\n",
       "      <th>1</th>\n",
       "      <td>433</td>\n",
       "      <td>0</td>\n",
       "      <td>1</td>\n",
       "      <td>153</td>\n",
       "      <td>2011-05-16T00:00:00Z</td>\n",
       "      <td>11163.69</td>\n",
       "      <td>5486</td>\n",
       "      <td>20</td>\n",
       "      <td>246</td>\n",
       "      <td>287.19</td>\n",
       "      <td>12.33</td>\n",
       "      <td>0</td>\n",
       "      <td>5</td>\n",
       "      <td>0</td>\n",
       "    </tr>\n",
       "    <tr>\n",
       "      <th>2</th>\n",
       "      <td>486</td>\n",
       "      <td>0</td>\n",
       "      <td>0</td>\n",
       "      <td>166</td>\n",
       "      <td>2018-01-24T00:00:00Z</td>\n",
       "      <td>6432.12</td>\n",
       "      <td>22662</td>\n",
       "      <td>12</td>\n",
       "      <td>1420</td>\n",
       "      <td>184.84</td>\n",
       "      <td>12.80</td>\n",
       "      <td>0</td>\n",
       "      <td>0</td>\n",
       "      <td>0</td>\n",
       "    </tr>\n",
       "    <tr>\n",
       "      <th>3</th>\n",
       "      <td>107</td>\n",
       "      <td>0</td>\n",
       "      <td>1</td>\n",
       "      <td>156</td>\n",
       "      <td>2010-07-28T00:00:00Z</td>\n",
       "      <td>831.82</td>\n",
       "      <td>3956</td>\n",
       "      <td>18</td>\n",
       "      <td>1963</td>\n",
       "      <td>189.18</td>\n",
       "      <td>10.51</td>\n",
       "      <td>0</td>\n",
       "      <td>0</td>\n",
       "      <td>0</td>\n",
       "    </tr>\n",
       "    <tr>\n",
       "      <th>4</th>\n",
       "      <td>768</td>\n",
       "      <td>0</td>\n",
       "      <td>1</td>\n",
       "      <td>218</td>\n",
       "      <td>2010-12-17T00:00:00Z</td>\n",
       "      <td>1736.48</td>\n",
       "      <td>4730</td>\n",
       "      <td>5</td>\n",
       "      <td>1786</td>\n",
       "      <td>66.87</td>\n",
       "      <td>11.82</td>\n",
       "      <td>0</td>\n",
       "      <td>0</td>\n",
       "      <td>0</td>\n",
       "    </tr>\n",
       "  </tbody>\n",
       "</table>\n",
       "</div>"
      ],
      "text/plain": [
       "   customer_code  branch_id  sales_channel  seller_code         register_date  \\\n",
       "0            143          0              0          190  2017-11-10T00:00:00Z   \n",
       "1            433          0              1          153  2011-05-16T00:00:00Z   \n",
       "2            486          0              0          166  2018-01-24T00:00:00Z   \n",
       "3            107          0              1          156  2010-07-28T00:00:00Z   \n",
       "4            768          0              1          218  2010-12-17T00:00:00Z   \n",
       "\n",
       "   total_price  order_id  quantity  item_code  item_total_price  unit_price  \\\n",
       "0      1613.53     21804        10        854            292.91       25.04   \n",
       "1     11163.69      5486        20        246            287.19       12.33   \n",
       "2      6432.12     22662        12       1420            184.84       12.80   \n",
       "3       831.82      3956        18       1963            189.18       10.51   \n",
       "4      1736.48      4730         5       1786             66.87       11.82   \n",
       "\n",
       "   group_code  segment_code is_churn  \n",
       "0           0             0        0  \n",
       "1           0             5        0  \n",
       "2           0             0        0  \n",
       "3           0             0        0  \n",
       "4           0             0        0  "
      ]
     },
     "execution_count": 4,
     "metadata": {},
     "output_type": "execute_result"
    }
   ],
   "source": [
    "df = pd.DataFrame(json_dados)\n",
    "df.head()"
   ]
  },
  {
   "cell_type": "code",
   "execution_count": 5,
   "metadata": {},
   "outputs": [],
   "source": [
    "#Importando datetime atual\n",
    "now = datetime.datetime.now()"
   ]
  },
  {
   "cell_type": "code",
   "execution_count": 6,
   "metadata": {},
   "outputs": [],
   "source": [
    "df['date'] = pd.to_datetime(df['register_date'])\n",
    "df['date_notz'] = df['date'].dt.tz_localize(None)"
   ]
  },
  {
   "cell_type": "code",
   "execution_count": 7,
   "metadata": {},
   "outputs": [],
   "source": [
    "df['years_active'] = ((now - df['date_notz']).dt.days)/365.0"
   ]
  },
  {
   "cell_type": "code",
   "execution_count": 8,
   "metadata": {},
   "outputs": [
    {
     "data": {
      "text/html": [
       "<div>\n",
       "<style scoped>\n",
       "    .dataframe tbody tr th:only-of-type {\n",
       "        vertical-align: middle;\n",
       "    }\n",
       "\n",
       "    .dataframe tbody tr th {\n",
       "        vertical-align: top;\n",
       "    }\n",
       "\n",
       "    .dataframe thead th {\n",
       "        text-align: right;\n",
       "    }\n",
       "</style>\n",
       "<table border=\"1\" class=\"dataframe\">\n",
       "  <thead>\n",
       "    <tr style=\"text-align: right;\">\n",
       "      <th></th>\n",
       "      <th>sales_channel</th>\n",
       "      <th>seller_code</th>\n",
       "      <th>total_price</th>\n",
       "      <th>quantity</th>\n",
       "      <th>item_code</th>\n",
       "      <th>item_total_price</th>\n",
       "      <th>unit_price</th>\n",
       "      <th>group_code</th>\n",
       "      <th>segment_code</th>\n",
       "      <th>is_churn</th>\n",
       "      <th>years_active</th>\n",
       "    </tr>\n",
       "  </thead>\n",
       "  <tbody>\n",
       "    <tr>\n",
       "      <th>0</th>\n",
       "      <td>0</td>\n",
       "      <td>190</td>\n",
       "      <td>1613.53</td>\n",
       "      <td>10</td>\n",
       "      <td>854</td>\n",
       "      <td>292.91</td>\n",
       "      <td>25.04</td>\n",
       "      <td>0</td>\n",
       "      <td>0</td>\n",
       "      <td>0</td>\n",
       "      <td>3.402740</td>\n",
       "    </tr>\n",
       "    <tr>\n",
       "      <th>1</th>\n",
       "      <td>1</td>\n",
       "      <td>153</td>\n",
       "      <td>11163.69</td>\n",
       "      <td>20</td>\n",
       "      <td>246</td>\n",
       "      <td>287.19</td>\n",
       "      <td>12.33</td>\n",
       "      <td>0</td>\n",
       "      <td>5</td>\n",
       "      <td>0</td>\n",
       "      <td>9.895890</td>\n",
       "    </tr>\n",
       "    <tr>\n",
       "      <th>2</th>\n",
       "      <td>0</td>\n",
       "      <td>166</td>\n",
       "      <td>6432.12</td>\n",
       "      <td>12</td>\n",
       "      <td>1420</td>\n",
       "      <td>184.84</td>\n",
       "      <td>12.80</td>\n",
       "      <td>0</td>\n",
       "      <td>0</td>\n",
       "      <td>0</td>\n",
       "      <td>3.197260</td>\n",
       "    </tr>\n",
       "    <tr>\n",
       "      <th>3</th>\n",
       "      <td>1</td>\n",
       "      <td>156</td>\n",
       "      <td>831.82</td>\n",
       "      <td>18</td>\n",
       "      <td>1963</td>\n",
       "      <td>189.18</td>\n",
       "      <td>10.51</td>\n",
       "      <td>0</td>\n",
       "      <td>0</td>\n",
       "      <td>0</td>\n",
       "      <td>10.695890</td>\n",
       "    </tr>\n",
       "    <tr>\n",
       "      <th>4</th>\n",
       "      <td>1</td>\n",
       "      <td>218</td>\n",
       "      <td>1736.48</td>\n",
       "      <td>5</td>\n",
       "      <td>1786</td>\n",
       "      <td>66.87</td>\n",
       "      <td>11.82</td>\n",
       "      <td>0</td>\n",
       "      <td>0</td>\n",
       "      <td>0</td>\n",
       "      <td>10.306849</td>\n",
       "    </tr>\n",
       "  </tbody>\n",
       "</table>\n",
       "</div>"
      ],
      "text/plain": [
       "   sales_channel  seller_code  total_price  quantity  item_code  \\\n",
       "0              0          190      1613.53        10        854   \n",
       "1              1          153     11163.69        20        246   \n",
       "2              0          166      6432.12        12       1420   \n",
       "3              1          156       831.82        18       1963   \n",
       "4              1          218      1736.48         5       1786   \n",
       "\n",
       "   item_total_price  unit_price  group_code  segment_code is_churn  \\\n",
       "0            292.91       25.04           0             0        0   \n",
       "1            287.19       12.33           0             5        0   \n",
       "2            184.84       12.80           0             0        0   \n",
       "3            189.18       10.51           0             0        0   \n",
       "4             66.87       11.82           0             0        0   \n",
       "\n",
       "   years_active  \n",
       "0      3.402740  \n",
       "1      9.895890  \n",
       "2      3.197260  \n",
       "3     10.695890  \n",
       "4     10.306849  "
      ]
     },
     "execution_count": 8,
     "metadata": {},
     "output_type": "execute_result"
    }
   ],
   "source": [
    "#Retirada de colunas que nao iremos utilizar\n",
    "df_drop = df.drop(['customer_code', 'order_id', 'register_date','date', 'date_notz'],axis=1)\n",
    "df_drop = df_drop.drop('branch_id',axis=1)\n",
    "df_drop.head()"
   ]
  },
  {
   "cell_type": "code",
   "execution_count": 9,
   "metadata": {},
   "outputs": [
    {
     "data": {
      "text/plain": [
       "2981"
      ]
     },
     "execution_count": 9,
     "metadata": {},
     "output_type": "execute_result"
    }
   ],
   "source": [
    "#Verificando quantos codigos unidos de item tempos na coluna item_code\n",
    "len(df_drop['item_code'].unique())"
   ]
  },
  {
   "cell_type": "markdown",
   "metadata": {},
   "source": [
    "### Como o maior interesse da TOTVS é em cálculo de churn, utilizarei esta variável para análise, porém antes devemos separas as bases de treino e teste."
   ]
  },
  {
   "cell_type": "code",
   "execution_count": 10,
   "metadata": {},
   "outputs": [],
   "source": [
    "train_df = df_drop.sample(frac=0.75, random_state=1019)\n",
    "test_df = df_drop.drop(train_df.index)"
   ]
  },
  {
   "cell_type": "code",
   "execution_count": 11,
   "metadata": {},
   "outputs": [
    {
     "name": "stderr",
     "output_type": "stream",
     "text": [
      "<ipython-input-11-1f249ec772f3>:1: SettingWithCopyWarning: \n",
      "A value is trying to be set on a copy of a slice from a DataFrame\n",
      "\n",
      "See the caveats in the documentation: https://pandas.pydata.org/pandas-docs/stable/user_guide/indexing.html#returning-a-view-versus-a-copy\n",
      "  train_df['item_code'][train_df['item_code'] < train_df['item_code'].quantile(0.68)] = 'Unknown'\n"
     ]
    }
   ],
   "source": [
    "train_df['item_code'][train_df['item_code'] < train_df['item_code'].quantile(0.68)] = 'Unknown'"
   ]
  },
  {
   "cell_type": "code",
   "execution_count": 12,
   "metadata": {},
   "outputs": [
    {
     "name": "stderr",
     "output_type": "stream",
     "text": [
      "<ipython-input-12-0451b789620b>:1: SettingWithCopyWarning: \n",
      "A value is trying to be set on a copy of a slice from a DataFrame\n",
      "\n",
      "See the caveats in the documentation: https://pandas.pydata.org/pandas-docs/stable/user_guide/indexing.html#returning-a-view-versus-a-copy\n",
      "  train_df['sales_channel'][train_df['sales_channel'] < train_df['sales_channel'].quantile(0.68)] = 'Unknown'\n"
     ]
    }
   ],
   "source": [
    "train_df['sales_channel'][train_df['sales_channel'] < train_df['sales_channel'].quantile(0.68)] = 'Unknown'"
   ]
  },
  {
   "cell_type": "code",
   "execution_count": 13,
   "metadata": {},
   "outputs": [
    {
     "name": "stderr",
     "output_type": "stream",
     "text": [
      "<ipython-input-13-1d0b167b2c92>:1: SettingWithCopyWarning: \n",
      "A value is trying to be set on a copy of a slice from a DataFrame\n",
      "\n",
      "See the caveats in the documentation: https://pandas.pydata.org/pandas-docs/stable/user_guide/indexing.html#returning-a-view-versus-a-copy\n",
      "  train_df['seller_code'][train_df['seller_code'] < train_df['seller_code'].quantile(0.68)] = 'Unknown'\n"
     ]
    }
   ],
   "source": [
    "train_df['seller_code'][train_df['seller_code'] < train_df['seller_code'].quantile(0.68)] = 'Unknown'"
   ]
  },
  {
   "cell_type": "code",
   "execution_count": 14,
   "metadata": {},
   "outputs": [
    {
     "data": {
      "text/html": [
       "<div>\n",
       "<style scoped>\n",
       "    .dataframe tbody tr th:only-of-type {\n",
       "        vertical-align: middle;\n",
       "    }\n",
       "\n",
       "    .dataframe tbody tr th {\n",
       "        vertical-align: top;\n",
       "    }\n",
       "\n",
       "    .dataframe thead th {\n",
       "        text-align: right;\n",
       "    }\n",
       "</style>\n",
       "<table border=\"1\" class=\"dataframe\">\n",
       "  <thead>\n",
       "    <tr style=\"text-align: right;\">\n",
       "      <th></th>\n",
       "      <th>sales_channel</th>\n",
       "      <th>seller_code</th>\n",
       "      <th>total_price</th>\n",
       "      <th>quantity</th>\n",
       "      <th>item_code</th>\n",
       "      <th>item_total_price</th>\n",
       "      <th>unit_price</th>\n",
       "      <th>group_code</th>\n",
       "      <th>segment_code</th>\n",
       "      <th>is_churn</th>\n",
       "      <th>years_active</th>\n",
       "    </tr>\n",
       "  </thead>\n",
       "  <tbody>\n",
       "    <tr>\n",
       "      <th>64272</th>\n",
       "      <td>Unknown</td>\n",
       "      <td>201</td>\n",
       "      <td>2400.09</td>\n",
       "      <td>1</td>\n",
       "      <td>Unknown</td>\n",
       "      <td>59.81</td>\n",
       "      <td>59.81</td>\n",
       "      <td>0</td>\n",
       "      <td>5</td>\n",
       "      <td>0</td>\n",
       "      <td>7.000000</td>\n",
       "    </tr>\n",
       "    <tr>\n",
       "      <th>161495</th>\n",
       "      <td>7</td>\n",
       "      <td>Unknown</td>\n",
       "      <td>489.75</td>\n",
       "      <td>5</td>\n",
       "      <td>Unknown</td>\n",
       "      <td>320.70</td>\n",
       "      <td>56.32</td>\n",
       "      <td>2</td>\n",
       "      <td>2</td>\n",
       "      <td>1</td>\n",
       "      <td>4.698630</td>\n",
       "    </tr>\n",
       "    <tr>\n",
       "      <th>26892</th>\n",
       "      <td>2</td>\n",
       "      <td>190</td>\n",
       "      <td>539.11</td>\n",
       "      <td>3</td>\n",
       "      <td>Unknown</td>\n",
       "      <td>4.62</td>\n",
       "      <td>1.54</td>\n",
       "      <td>2</td>\n",
       "      <td>2</td>\n",
       "      <td>1</td>\n",
       "      <td>9.775342</td>\n",
       "    </tr>\n",
       "    <tr>\n",
       "      <th>124690</th>\n",
       "      <td>7</td>\n",
       "      <td>Unknown</td>\n",
       "      <td>1085.70</td>\n",
       "      <td>5</td>\n",
       "      <td>Unknown</td>\n",
       "      <td>320.70</td>\n",
       "      <td>56.32</td>\n",
       "      <td>2</td>\n",
       "      <td>2</td>\n",
       "      <td>1</td>\n",
       "      <td>5.364384</td>\n",
       "    </tr>\n",
       "    <tr>\n",
       "      <th>14753</th>\n",
       "      <td>Unknown</td>\n",
       "      <td>Unknown</td>\n",
       "      <td>2804.63</td>\n",
       "      <td>4</td>\n",
       "      <td>Unknown</td>\n",
       "      <td>119.88</td>\n",
       "      <td>29.97</td>\n",
       "      <td>0</td>\n",
       "      <td>0</td>\n",
       "      <td>0</td>\n",
       "      <td>3.600000</td>\n",
       "    </tr>\n",
       "  </tbody>\n",
       "</table>\n",
       "</div>"
      ],
      "text/plain": [
       "       sales_channel seller_code  total_price  quantity item_code  \\\n",
       "64272        Unknown         201      2400.09         1   Unknown   \n",
       "161495             7     Unknown       489.75         5   Unknown   \n",
       "26892              2         190       539.11         3   Unknown   \n",
       "124690             7     Unknown      1085.70         5   Unknown   \n",
       "14753        Unknown     Unknown      2804.63         4   Unknown   \n",
       "\n",
       "        item_total_price  unit_price  group_code  segment_code is_churn  \\\n",
       "64272              59.81       59.81           0             5        0   \n",
       "161495            320.70       56.32           2             2        1   \n",
       "26892               4.62        1.54           2             2        1   \n",
       "124690            320.70       56.32           2             2        1   \n",
       "14753             119.88       29.97           0             0        0   \n",
       "\n",
       "        years_active  \n",
       "64272       7.000000  \n",
       "161495      4.698630  \n",
       "26892       9.775342  \n",
       "124690      5.364384  \n",
       "14753       3.600000  "
      ]
     },
     "execution_count": 14,
     "metadata": {},
     "output_type": "execute_result"
    }
   ],
   "source": [
    "train_df.head()"
   ]
  },
  {
   "cell_type": "code",
   "execution_count": 15,
   "metadata": {},
   "outputs": [
    {
     "data": {
      "text/plain": [
       "1034"
      ]
     },
     "execution_count": 15,
     "metadata": {},
     "output_type": "execute_result"
    }
   ],
   "source": [
    "len(train_df['item_code'].unique())"
   ]
  },
  {
   "cell_type": "code",
   "execution_count": 16,
   "metadata": {},
   "outputs": [],
   "source": [
    "#Criação da funcao do dicionário com os valores de churn\n",
    "def churn_dict(col,df):\n",
    "    #Uso apenas do codigo de treino\n",
    "    churn_rate = {}\n",
    "    \n",
    "    for uid, grp in df.groupby(col):\n",
    "        uid = str(uid)\n",
    "        churn_rate[uid] = float(len(grp[grp.is_churn == '1'])) / float(len(grp)) #churn rate\n",
    "    \n",
    "    return churn_rate"
   ]
  },
  {
   "cell_type": "code",
   "execution_count": 17,
   "metadata": {},
   "outputs": [],
   "source": [
    "item_dict = churn_dict('item_code',train_df)\n",
    "channel_dict = churn_dict('sales_channel',train_df)\n",
    "seller_dict = churn_dict('seller_code',train_df)"
   ]
  },
  {
   "cell_type": "code",
   "execution_count": 18,
   "metadata": {},
   "outputs": [],
   "source": [
    "#aplicacao de mascara nas colunas\n",
    "seller_code_masked = train_df['seller_code'].astype(str).replace(seller_dict)\n",
    "train_df['seller_code'] = seller_code_masked"
   ]
  },
  {
   "cell_type": "code",
   "execution_count": 19,
   "metadata": {},
   "outputs": [],
   "source": [
    "item_code_masked = train_df['item_code'].astype(str).replace(item_dict)\n",
    "train_df['item_code'] = item_code_masked"
   ]
  },
  {
   "cell_type": "code",
   "execution_count": 20,
   "metadata": {},
   "outputs": [],
   "source": [
    "channel_code_masked = train_df['sales_channel'].astype(str).replace(channel_dict)\n",
    "train_df['sales_channel'] = channel_code_masked"
   ]
  },
  {
   "cell_type": "code",
   "execution_count": 21,
   "metadata": {},
   "outputs": [],
   "source": [
    "#aplicacao de mascara nas colunas agora de teste\n",
    "seller_code_masked_test = test_df['seller_code'].astype(str).replace(seller_dict)\n",
    "item_code_masked_test = test_df['item_code'].astype(str).replace(item_dict)\n",
    "channel_code_masked_test = test_df['sales_channel'].astype(str).replace(channel_dict)"
   ]
  },
  {
   "cell_type": "code",
   "execution_count": 22,
   "metadata": {},
   "outputs": [],
   "source": [
    "test_df['seller_code'] = [seller_dict['Unknown'] if i > 1.0 else i for i in seller_code_masked_test]\n",
    "test_df['item_code'] = [seller_dict['Unknown'] if i > 1.0 else i for i in item_code_masked_test]\n",
    "test_df['channel_code'] = [seller_dict['Unknown'] if i > 1.0 else i for i in channel_code_masked_test]"
   ]
  },
  {
   "cell_type": "markdown",
   "metadata": {},
   "source": [
    "# Aplicação da regressão Logística"
   ]
  },
  {
   "cell_type": "code",
   "execution_count": 23,
   "metadata": {},
   "outputs": [],
   "source": [
    "# isolando a variavel desejada\n",
    "y_train = train_df['is_churn'].values \n",
    "X_train = train_df.drop('is_churn',axis=1)"
   ]
  },
  {
   "cell_type": "code",
   "execution_count": 24,
   "metadata": {},
   "outputs": [],
   "source": [
    "y_train = [0 if i is None else i for i in y_train] #eliminando nulos\n",
    "y_train = [int(i) for i in y_train] #check de tipagem, deve ser numero"
   ]
  },
  {
   "cell_type": "code",
   "execution_count": 25,
   "metadata": {},
   "outputs": [],
   "source": [
    "# isolando a variavel desejada, agora na amostra de teste\n",
    "y_test = test_df['is_churn'].values\n",
    "X_test = test_df.drop('is_churn',axis=1)"
   ]
  },
  {
   "cell_type": "code",
   "execution_count": 26,
   "metadata": {},
   "outputs": [],
   "source": [
    "y_test = [0 if i is None else i for i in y_test] #eliminando nulos\n",
    "y_test = [int(i) for i in y_test] #check de tipagem, deve ser numero"
   ]
  },
  {
   "cell_type": "code",
   "execution_count": 27,
   "metadata": {},
   "outputs": [],
   "source": [
    "def transform_pipeline(cols):\n",
    "    \n",
    "    si_step = ('si',SimpleImputer(strategy='median'))\n",
    "\n",
    "    steps = [si_step]\n",
    "    trans_pipe = Pipeline(steps)\n",
    "\n",
    "    transformers = [('all_cols', trans_pipe, cols)]\n",
    "    \n",
    "    ct = ColumnTransformer(transformers=transformers)\n",
    "    return ct"
   ]
  },
  {
   "cell_type": "code",
   "execution_count": 28,
   "metadata": {},
   "outputs": [],
   "source": [
    "cols = list(X_train.columns)"
   ]
  },
  {
   "cell_type": "code",
   "execution_count": 29,
   "metadata": {},
   "outputs": [],
   "source": [
    "#transformando dados com simplute imputer\n",
    "ct = transform_pipeline(cols)"
   ]
  },
  {
   "cell_type": "code",
   "execution_count": 30,
   "metadata": {},
   "outputs": [
    {
     "name": "stderr",
     "output_type": "stream",
     "text": [
      "C:\\ProgramData\\Anaconda3\\lib\\site-packages\\sklearn\\compose\\_column_transformer.py:437: FutureWarning: Given feature/column names or counts do not match the ones for the data given during fit. This will fail from v0.24.\n",
      "  warnings.warn(\"Given feature/column names or counts do not match \"\n"
     ]
    }
   ],
   "source": [
    "# Transformando dados de teste e treino\n",
    "X_train_trans = ct.fit_transform(X_train)\n",
    "X_test_trans = ct.transform(X_test)"
   ]
  },
  {
   "cell_type": "code",
   "execution_count": 31,
   "metadata": {},
   "outputs": [],
   "source": [
    "learning_rates = [1.5, 1, 0.5, 0.25, 0.1, 0.05, 0.01]\n",
    "train_results = []\n",
    "test_results = []\n",
    "for eta in learning_rates:\n",
    "    model = GradientBoostingClassifier(learning_rate=eta)\n",
    "    model.fit(X_train_trans, y_train)\n",
    "    train_pred = model.predict(X_train_trans)\n",
    "    false_positive_rate, true_positive_rate, thresholds = roc_curve(y_train, train_pred)\n",
    "    roc_auc = auc(false_positive_rate, true_positive_rate)\n",
    "    train_results.append(roc_auc)\n",
    "    y_pred = model.predict(X_test_trans)\n",
    "    false_positive_rate, true_positive_rate, thresholds = roc_curve(y_test, y_pred)\n",
    "    roc_auc = auc(false_positive_rate, true_positive_rate)\n",
    "    test_results.append(roc_auc)"
   ]
  },
  {
   "cell_type": "code",
   "execution_count": 32,
   "metadata": {},
   "outputs": [
    {
     "data": {
      "image/png": "[encoded data removed]",
      "text/plain": [
       "<Figure size 432x288 with 1 Axes>"
      ]
     },
     "metadata": {
      "needs_background": "light"
     },
     "output_type": "display_data"
    }
   ],
   "source": [
    "line1, = plt.plot(learning_rates, train_results, 'b', label='Train AUC')\n",
    "line2, = plt.plot(learning_rates, test_results, 'r', label='Test AUC')\n",
    "plt.legend(handler_map={line1: HandlerLine2D(numpoints=2)})\n",
    "plt.ylabel('AUC score')\n",
    "plt.xlabel('learning rate')\n",
    "plt.show()"
   ]
  },
  {
   "cell_type": "code",
   "execution_count": 33,
   "metadata": {},
   "outputs": [],
   "source": [
    "best_rate = 0.05"
   ]
  },
  {
   "cell_type": "code",
   "execution_count": 34,
   "metadata": {},
   "outputs": [],
   "source": [
    "estimators = [1,2,4,8,16,32,64,100,200]\n",
    "train_results = []\n",
    "test_results = []\n",
    "for est in estimators:\n",
    "    model = GradientBoostingClassifier(n_estimators=est)\n",
    "    model.fit(X_train_trans, y_train)\n",
    "    train_pred = model.predict(X_train_trans)\n",
    "    false_positive_rate, true_positive_rate, thresholds = roc_curve(y_train, train_pred)\n",
    "    roc_auc = auc(false_positive_rate, true_positive_rate)\n",
    "    train_results.append(roc_auc)\n",
    "    y_pred = model.predict(X_test_trans)\n",
    "    false_positive_rate, true_positive_rate, thresholds = roc_curve(y_test, y_pred)\n",
    "    roc_auc = auc(false_positive_rate, true_positive_rate)\n",
    "    test_results.append(roc_auc)"
   ]
  },
  {
   "cell_type": "code",
   "execution_count": 35,
   "metadata": {},
   "outputs": [
    {
     "data": {
      "image/png": "[encoded data removed]",
      "text/plain": [
       "<Figure size 432x288 with 1 Axes>"
      ]
     },
     "metadata": {
      "needs_background": "light"
     },
     "output_type": "display_data"
    }
   ],
   "source": [
    "line1, = plt.plot(estimators, train_results, 'b', label='Train AUC')\n",
    "line2, = plt.plot(estimators, test_results, 'r', label='Test AUC')\n",
    "plt.legend(handler_map={line1: HandlerLine2D(numpoints=2)})\n",
    "plt.ylabel('AUC score')\n",
    "plt.xlabel('n_estimators')\n",
    "plt.show()"
   ]
  },
  {
   "cell_type": "code",
   "execution_count": 36,
   "metadata": {},
   "outputs": [],
   "source": [
    "best_est = 32"
   ]
  },
  {
   "cell_type": "code",
   "execution_count": 37,
   "metadata": {},
   "outputs": [],
   "source": [
    "min_splits = np.linspace(0.1,1.0,10,endpoint=True)\n",
    "train_results = []\n",
    "test_results = []\n",
    "for split in min_splits:\n",
    "    model = GradientBoostingClassifier(min_samples_split=split)\n",
    "    model.fit(X_train_trans, y_train)\n",
    "    train_pred = model.predict(X_train_trans)\n",
    "    false_positive_rate, true_positive_rate, thresholds = roc_curve(y_train, train_pred)\n",
    "    roc_auc = auc(false_positive_rate, true_positive_rate)\n",
    "    train_results.append(roc_auc)\n",
    "    y_pred = model.predict(X_test_trans)\n",
    "    false_positive_rate, true_positive_rate, thresholds = roc_curve(y_test, y_pred)\n",
    "    roc_auc = auc(false_positive_rate, true_positive_rate)\n",
    "    test_results.append(roc_auc)"
   ]
  },
  {
   "cell_type": "code",
   "execution_count": 38,
   "metadata": {},
   "outputs": [
    {
     "data": {
      "image/png": "[encoded data removed]",
      "text/plain": [
       "<Figure size 432x288 with 1 Axes>"
      ]
     },
     "metadata": {
      "needs_background": "light"
     },
     "output_type": "display_data"
    }
   ],
   "source": [
    "line1, = plt.plot(min_splits, train_results, 'b', label='Train AUC')\n",
    "line2, = plt.plot(min_splits, test_results, 'r', label='Test AUC')\n",
    "plt.legend(handler_map={line1: HandlerLine2D(numpoints=2)})\n",
    "plt.ylabel('AUC score')\n",
    "plt.xlabel('min_samples_split')\n",
    "plt.show()"
   ]
  },
  {
   "cell_type": "code",
   "execution_count": 39,
   "metadata": {},
   "outputs": [],
   "source": [
    "best_split = 0.2"
   ]
  },
  {
   "cell_type": "code",
   "execution_count": 40,
   "metadata": {},
   "outputs": [],
   "source": [
    "min_samples_leafs = np.linspace(0.1,0.5,5,endpoint=True)\n",
    "train_results = []\n",
    "test_results = []\n",
    "for leaf in min_samples_leafs:\n",
    "    model = GradientBoostingClassifier(min_samples_leaf=leaf)\n",
    "    model.fit(X_train_trans, y_train)\n",
    "    train_pred = model.predict(X_train_trans)\n",
    "    false_positive_rate, true_positive_rate, thresholds = roc_curve(y_train, train_pred)\n",
    "    roc_auc = auc(false_positive_rate, true_positive_rate)\n",
    "    train_results.append(roc_auc)\n",
    "    y_pred = model.predict(X_test_trans)\n",
    "    false_positive_rate, true_positive_rate, thresholds = roc_curve(y_test, y_pred)\n",
    "    roc_auc = auc(false_positive_rate, true_positive_rate)\n",
    "    test_results.append(roc_auc)"
   ]
  },
  {
   "cell_type": "code",
   "execution_count": 41,
   "metadata": {},
   "outputs": [
    {
     "data": {
      "image/png": "[encoded data removed]",
      "text/plain": [
       "<Figure size 432x288 with 1 Axes>"
      ]
     },
     "metadata": {
      "needs_background": "light"
     },
     "output_type": "display_data"
    }
   ],
   "source": [
    "line1, = plt.plot(min_samples_leafs, train_results, 'b', label='Train AUC')\n",
    "line2, = plt.plot(min_samples_leafs, test_results, 'r', label='Test AUC')\n",
    "plt.legend(handler_map={line1: HandlerLine2D(numpoints=2)})\n",
    "plt.ylabel('AUC score')\n",
    "plt.xlabel('min_samples_leaf')\n",
    "plt.show()"
   ]
  },
  {
   "cell_type": "code",
   "execution_count": 42,
   "metadata": {},
   "outputs": [],
   "source": [
    "best_leaf = 0.15"
   ]
  },
  {
   "cell_type": "code",
   "execution_count": 43,
   "metadata": {},
   "outputs": [],
   "source": [
    "# criando o pipeline de ml com os parametros acima\n",
    "def ml_pipeline():\n",
    "    ss_step = ('ss', StandardScaler(with_mean=True))\n",
    "\n",
    "    gb_step = ('gb',GradientBoostingClassifier(learning_rate = 0.05,\n",
    "                                              n_estimators=best_est,\n",
    "                                              max_depth=5, \n",
    "                            # i chose a max_depth automatically based on experience and time constraints\n",
    "                                              min_samples_split=best_split,\n",
    "                                              min_samples_leaf=best_leaf))\n",
    "    \n",
    "    pipeline_steps = [ss_step, gb_step]\n",
    "    \n",
    "    ml_pipe = pipe(pipeline_steps)\n",
    "    \n",
    "    return ml_pipe"
   ]
  },
  {
   "cell_type": "code",
   "execution_count": 44,
   "metadata": {},
   "outputs": [],
   "source": [
    "ml_pipe = ml_pipeline()"
   ]
  },
  {
   "cell_type": "code",
   "execution_count": 45,
   "metadata": {},
   "outputs": [
    {
     "data": {
      "text/plain": [
       "Pipeline(steps=[('ss', StandardScaler()),\n",
       "                ('gb',\n",
       "                 GradientBoostingClassifier(learning_rate=0.05, max_depth=5,\n",
       "                                            min_samples_leaf=0.15,\n",
       "                                            min_samples_split=0.2,\n",
       "                                            n_estimators=32))])"
      ]
     },
     "execution_count": 45,
     "metadata": {},
     "output_type": "execute_result"
    }
   ],
   "source": [
    "#aplicando fit no treino\n",
    "ml_pipe.fit(X_train_trans,y_train)"
   ]
  },
  {
   "cell_type": "code",
   "execution_count": 46,
   "metadata": {},
   "outputs": [],
   "source": [
    "#predict na base teste\n",
    "y_pred = ml_pipe.predict(X_test_trans)\n",
    "y_prob = ml_pipe.predict_proba(X_test_trans)[:,1]"
   ]
  },
  {
   "cell_type": "code",
   "execution_count": 47,
   "metadata": {},
   "outputs": [
    {
     "name": "stdout",
     "output_type": "stream",
     "text": [
      "              precision    recall  f1-score   support\n",
      "\n",
      "           0       0.93      0.96      0.95     41459\n",
      "           1       0.80      0.71      0.75      9648\n",
      "\n",
      "    accuracy                           0.91     51107\n",
      "   macro avg       0.87      0.83      0.85     51107\n",
      "weighted avg       0.91      0.91      0.91     51107\n",
      "\n"
     ]
    }
   ],
   "source": [
    "cr = classification_report(y_test,y_pred)\n",
    "print(cr)"
   ]
  },
  {
   "cell_type": "code",
   "execution_count": 48,
   "metadata": {},
   "outputs": [
    {
     "name": "stdout",
     "output_type": "stream",
     "text": [
      "[[39753  1706]\n",
      " [ 2791  6857]]\n"
     ]
    }
   ],
   "source": [
    "# Definiçao da matrix de confusao\n",
    "cm = confusion_matrix(y_test,y_pred)\n",
    "print(cm)"
   ]
  },
  {
   "cell_type": "code",
   "execution_count": 49,
   "metadata": {},
   "outputs": [
    {
     "data": {
      "image/png": "[encoded data removed]",
      "text/plain": [
       "<Figure size 720x720 with 2 Axes>"
      ]
     },
     "metadata": {
      "needs_background": "light"
     },
     "output_type": "display_data"
    }
   ],
   "source": [
    "def plot_cm(cm):\n",
    "    labels = ['No Churn','Churn']\n",
    "    plt.figure(figsize=(10,10))\n",
    "    sns.heatmap(cm,xticklabels=labels,yticklabels=labels,annot=True,fmt='d')\n",
    "    plt.title('Confusion Matrix')\n",
    "    plt.xlabel('Predicted Class')\n",
    "    plt.ylabel('True Class')\n",
    "    plt.show\n",
    "\n",
    "plot_cm(cm)"
   ]
  },
  {
   "cell_type": "code",
   "execution_count": 50,
   "metadata": {},
   "outputs": [],
   "source": [
    "fpr, tpr, thresholds = roc_curve(y_test,y_prob)\n",
    "roc_auc = auc(fpr,tpr)"
   ]
  },
  {
   "cell_type": "code",
   "execution_count": 51,
   "metadata": {},
   "outputs": [],
   "source": [
    "def plot_roc(fpr, tpr, thresholds,roc_auc):\n",
    "    plt.figure(figsize=(15,8))\n",
    "    plt.title('Receiver Operating Characteristic AUC')\n",
    "    plt.plot(fpr,tpr,'b',label='AUC = %0.2f'%roc_auc)\n",
    "    plt.legend(loc='lower right')\n",
    "    plt.plot([0,1],[0,1],'r--')\n",
    "    plt.xlim([-0.1,1.1])\n",
    "    plt.ylim([-0.1,1.1])\n",
    "    plt.xlabel('False Positive Rate')\n",
    "    plt.ylabel('True Positive Rate')\n",
    "    plt.show()"
   ]
  },
  {
   "cell_type": "code",
   "execution_count": 52,
   "metadata": {},
   "outputs": [
    {
     "data": {
      "image/png": "[encoded data removed]",
      "text/plain": [
       "<Figure size 1080x576 with 1 Axes>"
      ]
     },
     "metadata": {
      "needs_background": "light"
     },
     "output_type": "display_data"
    }
   ],
   "source": [
    "plot_roc(fpr, tpr, thresholds,roc_auc)"
   ]
  },
  {
   "cell_type": "markdown",
   "metadata": {},
   "source": [
    "### Realizamos diversas operações com a variável escolhida e diversas visualizacoes utilizando diversas bibs, precisariamos de mais tempo para explorar falsos positivos e melhorar o modelo aos poucos."
   ]
  }
 ],
 "metadata": {
  "kernelspec": {
   "display_name": "Python 3",
   "language": "python",
   "name": "python3"
  },
  "language_info": {
   "codemirror_mode": {
    "name": "ipython",
    "version": 3
   },
   "file_extension": ".py",
   "mimetype": "text/x-python",
   "name": "python",
   "nbconvert_exporter": "python",
   "pygments_lexer": "ipython3",
   "version": "3.8.5"
  }
 },
 "nbformat": 4,
 "nbformat_minor": 4
}
